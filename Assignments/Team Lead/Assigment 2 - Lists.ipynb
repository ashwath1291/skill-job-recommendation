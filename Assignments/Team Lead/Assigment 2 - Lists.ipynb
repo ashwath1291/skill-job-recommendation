{
  "nbformat": 4,
  "nbformat_minor": 0,
  "metadata": {
    "colab": {
      "provenance": []
    },
    "kernelspec": {
      "name": "python3",
      "display_name": "Python 3"
    },
    "language_info": {
      "name": "python"
    }
  },
  "cells": [
    {
      "cell_type": "markdown",
      "source": [
        "# **List creation and modification**"
      ],
      "metadata": {
        "id": "VKr53zK5agUh"
      }
    },
    {
      "cell_type": "code",
      "execution_count": 1,
      "metadata": {
        "id": "JVjC3U23adG1"
      },
      "outputs": [],
      "source": [
        "listA = [1,2,3,4,5]\n",
        "listB = ['Diya', 'Safiya', 'Pramodh', 'Nithin']"
      ]
    },
    {
      "cell_type": "code",
      "source": [
        "# Appending to listA\n",
        "\n",
        "listA.append(6)\n",
        "print(listA)"
      ],
      "metadata": {
        "colab": {
          "base_uri": "https://localhost:8080/"
        },
        "id": "_R0eApv_a4AM",
        "outputId": "94930523-d761-418e-cd3b-20981ee50395"
      },
      "execution_count": 8,
      "outputs": [
        {
          "output_type": "stream",
          "name": "stdout",
          "text": [
            "[1, 2, 3, 4, 5, 6, 6, 6]\n"
          ]
        }
      ]
    },
    {
      "cell_type": "code",
      "source": [
        "#Sorting\n",
        "listB.sort()\n",
        "print(listB)"
      ],
      "metadata": {
        "colab": {
          "base_uri": "https://localhost:8080/"
        },
        "id": "aBSkxEQybQhG",
        "outputId": "a25ea597-22a0-4a4f-ff77-73da155da357"
      },
      "execution_count": 4,
      "outputs": [
        {
          "output_type": "stream",
          "name": "stdout",
          "text": [
            "['Diya', 'Nithin', 'Pramodh']\n"
          ]
        }
      ]
    },
    {
      "cell_type": "code",
      "source": [
        "#Inserting at particular position\n",
        "listA.insert(2,100)\n",
        "print(listA)"
      ],
      "metadata": {
        "colab": {
          "base_uri": "https://localhost:8080/"
        },
        "id": "FguzFd-qbR5R",
        "outputId": "f1a7f787-1522-4d8a-cb02-de5542c3f73b"
      },
      "execution_count": 5,
      "outputs": [
        {
          "output_type": "stream",
          "name": "stdout",
          "text": [
            "[1, 2, 100, 3, 4, 5, 6, 6]\n"
          ]
        }
      ]
    },
    {
      "cell_type": "code",
      "source": [
        "#Removing from list\n",
        "listA.remove(100)\n",
        "print(listA)"
      ],
      "metadata": {
        "colab": {
          "base_uri": "https://localhost:8080/"
        },
        "id": "5J37ig1vbT5e",
        "outputId": "f13cb2ee-4ff3-41fb-d717-4dc062d2a202"
      },
      "execution_count": 6,
      "outputs": [
        {
          "output_type": "stream",
          "name": "stdout",
          "text": [
            "[1, 2, 3, 4, 5, 6, 6]\n"
          ]
        }
      ]
    },
    {
      "cell_type": "code",
      "source": [
        "#Popping from list\n",
        "listB.pop()\n",
        "print(listB)"
      ],
      "metadata": {
        "colab": {
          "base_uri": "https://localhost:8080/"
        },
        "id": "lWDAIxCsbYTl",
        "outputId": "936585a1-dcd8-4440-d665-5e84394ac8dc"
      },
      "execution_count": 7,
      "outputs": [
        {
          "output_type": "stream",
          "name": "stdout",
          "text": [
            "['Diya', 'Nithin']\n"
          ]
        }
      ]
    }
  ]
}