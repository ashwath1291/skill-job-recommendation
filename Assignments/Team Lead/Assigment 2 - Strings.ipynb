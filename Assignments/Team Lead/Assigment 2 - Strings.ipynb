{
  "cells": [
    {
      "cell_type": "markdown",
      "metadata": {
        "id": "nObO_8cJU1MU"
      },
      "source": [
        "**String manipulations**"
      ]
    },
    {
      "cell_type": "code",
      "execution_count": 2,
      "metadata": {
        "colab": {
          "base_uri": "https://localhost:8080/"
        },
        "id": "Xben_hW7UyfU",
        "outputId": "da33f449-2c97-4116-dcdb-e205266c1527"
      },
      "outputs": [
        {
          "name": "stdout",
          "output_type": "stream",
          "text": [
            "TestString\n",
            "Test String\n"
          ]
        }
      ],
      "source": [
        "str1 = \"Test\"\n",
        "str2 = \"String\"\n",
        "str3 = str1 + str2\n",
        "str4 = str1 + \" \" + str2\n",
        "print(str3) \n",
        "print(str4) \n",
        "\n"
      ]
    },
    {
      "cell_type": "markdown",
      "metadata": {
        "id": "y2hNVq5tPaOi"
      },
      "source": [
        "**Slicing**"
      ]
    },
    {
      "cell_type": "code",
      "execution_count": null,
      "metadata": {
        "colab": {
          "base_uri": "https://localhost:8080/"
        },
        "id": "YAgQGzZ-PW6Y",
        "outputId": "8e08764b-1575-4785-ddda-e322517db533"
      },
      "outputs": [
        {
          "name": "stdout",
          "output_type": "stream",
          "text": [
            "llo W\n"
          ]
        }
      ],
      "source": [
        "str5 = \"Hello World\"\n",
        "print(str5[2:7]) "
      ]
    },
    {
      "cell_type": "markdown",
      "metadata": {
        "id": "tbqZ-qpoRGQw"
      },
      "source": [
        "**Finding particular characters**"
      ]
    },
    {
      "cell_type": "code",
      "execution_count": 5,
      "metadata": {
        "colab": {
          "base_uri": "https://localhost:8080/"
        },
        "id": "IzP7P8N_RIgA",
        "outputId": "c47cb1e7-6744-416f-c31e-db9757e7fbf5"
      },
      "outputs": [
        {
          "name": "stdout",
          "output_type": "stream",
          "text": [
            "-1\n",
            "10\n"
          ]
        }
      ],
      "source": [
        "str6 = \"This is a string\"\n",
        "print(str6.find(\"b\")) #prints -1 because b is not in the string\n",
        "print(str6.find(\"string\"))"
      ]
    }
  ],
  "metadata": {
    "colab": {
      "collapsed_sections": [],
      "provenance": []
    },
    "kernelspec": {
      "display_name": "Python 3",
      "name": "python3"
    },
    "language_info": {
      "name": "python"
    }
  },
  "nbformat": 4,
  "nbformat_minor": 0
}
