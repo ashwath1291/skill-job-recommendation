{
  "cells": [
    {
      "cell_type": "markdown",
      "metadata": {
        "id": "74TwATZBTr9b"
      },
      "source": [
        "# **Calculator Program**"
      ]
    },
    {
      "cell_type": "code",
      "execution_count": 5,
      "metadata": {
        "colab": {
          "base_uri": "https://localhost:8080/"
        },
        "id": "CrNQIhtHHsM3",
        "outputId": "14385d7f-77e8-4aa2-f047-dc67e89fcfef"
      },
      "outputs": [
        {
          "name": "stdout",
          "output_type": "stream",
          "text": [
            "Choose option : 1.Add 2.Subtract 3.Multiply 4.Divide 5.Exit\n",
            "1\n",
            "Enter number 1: 3\n",
            "Enter number 2: 2\n",
            "3.0 + 2.0 = 5.0\n",
            "Choose option : 1.Add 2.Subtract 3.Multiply 4.Divide 5.Exit\n",
            "2\n",
            "Enter number 1: 4\n",
            "Enter number 2: 5\n",
            "4.0 - 5.0 = -1.0\n",
            "Choose option : 1.Add 2.Subtract 3.Multiply 4.Divide 5.Exit\n",
            "3\n",
            "Enter number 1: 2\n",
            "Enter number 2: 0\n",
            "2.0 * 0.0 = 0.0\n",
            "Choose option : 1.Add 2.Subtract 3.Multiply 4.Divide 5.Exit\n",
            "4\n",
            "Enter number 1: 3\n",
            "Enter number 2: 5\n",
            "3.0 / 5.0 = 0.6\n",
            "Choose option : 1.Add 2.Subtract 3.Multiply 4.Divide 5.Exit\n",
            "5\n",
            "Exiting\n"
          ]
        }
      ],
      "source": [
        "def add(x, y):\n",
        "    return x + y\n",
        "\n",
        "def sub(x, y):\n",
        "    return x - y\n",
        "\n",
        "def mul(x, y):\n",
        "    return x * y\n",
        "\n",
        "def div(x, y):\n",
        "    return x / y\n",
        "\n",
        "while True:\n",
        "    print(\"Choose option : 1.Add 2.Subtract 3.Multiply 4.Divide 5.Exit\")\n",
        "    choice = input()\n",
        "    if choice in ('1', '2', '3', '4'):\n",
        "        num1 = float(input(\"Enter number 1: \"))\n",
        "        num2 = float(input(\"Enter number 2: \"))\n",
        "\n",
        "        if choice == '1':\n",
        "            print(num1, \"+\", num2, \"=\", add(num1, num2))\n",
        "\n",
        "        elif choice == '2':\n",
        "            print(num1, \"-\", num2, \"=\", sub(num1, num2))\n",
        "\n",
        "        elif choice == '3':\n",
        "            print(num1, \"*\", num2, \"=\", mul(num1, num2))\n",
        "\n",
        "        elif choice == '4':\n",
        "            print(num1, \"/\", num2, \"=\", div(num1, num2))\n",
        "    else:\n",
        "        print(\"Exiting\")\n",
        "        break"
      ]
    }
  ],
  "metadata": {
    "colab": {
      "provenance": []
    },
    "kernelspec": {
      "display_name": "Python 3",
      "name": "python3"
    },
    "language_info": {
      "name": "python"
    }
  },
  "nbformat": 4,
  "nbformat_minor": 0
}
